{
  "cells": [
    {
      "cell_type": "markdown",
      "id": "1331faa1",
      "metadata": {
        "id": "1331faa1"
      },
      "source": [
        "You can order print and ebook versions of *Think Python 3e* from\n",
        "[Bookshop.org](https://bookshop.org/a/98697/9781098155438) and\n",
        "[Amazon](https://www.amazon.com/_/dp/1098155432?smid=ATVPDKIKX0DER&_encoding=UTF8&tag=oreilly20-20&_encoding=UTF8&tag=greenteapre01-20&linkCode=ur2&linkId=e2a529f94920295d27ec8a06e757dc7c&camp=1789&creative=9325)."
      ]
    },
    {
      "cell_type": "code",
      "execution_count": null,
      "id": "e55de5cd",
      "metadata": {
        "tags": [],
        "id": "e55de5cd"
      },
      "outputs": [],
      "source": []
    },
    {
      "cell_type": "markdown",
      "id": "737e79eb",
      "metadata": {
        "id": "737e79eb"
      },
      "source": [
        "# Dictionaries\n",
        "\n",
        "This chapter presents a built-in type called a dictionary.\n",
        "It is one of Python's best features -- and the building block of many efficient and elegant algorithms.\n",
        "\n",
        "We'll use dictionaries to compute the number of unique words in a book and the number of times each one appears.\n",
        "And in the exercises, we'll use dictionaries to solve word puzzles."
      ]
    },
    {
      "cell_type": "markdown",
      "id": "be7467bb",
      "metadata": {
        "id": "be7467bb"
      },
      "source": [
        "## A dictionary is a mapping\n",
        "\n",
        "A **dictionary** is like a list, but more general.\n",
        "In a list, the indices have to be integers; in a dictionary they can be (almost) any type.\n",
        "For example, suppose we make a list of number words, like this."
      ]
    },
    {
      "cell_type": "code",
      "execution_count": null,
      "id": "20dd9f32",
      "metadata": {
        "id": "20dd9f32"
      },
      "outputs": [],
      "source": []
    },
    {
      "cell_type": "markdown",
      "id": "aa626f88",
      "metadata": {
        "id": "aa626f88"
      },
      "source": [
        "We can use an integer as an index to get the corresponding word."
      ]
    },
    {
      "cell_type": "code",
      "execution_count": null,
      "id": "9b6625c0",
      "metadata": {
        "id": "9b6625c0"
      },
      "outputs": [],
      "source": []
    },
    {
      "cell_type": "markdown",
      "id": "c38e143b",
      "metadata": {
        "id": "c38e143b"
      },
      "source": [
        "But suppose we want to go in the other direction, and look up a word to get the corresponding integer.\n",
        "We can't do that with a list, but we can with a dictionary.\n",
        "We'll start by creating an empty dictionary and assigning it to `numbers`."
      ]
    },
    {
      "cell_type": "code",
      "execution_count": 3,
      "id": "138952d9",
      "metadata": {
        "colab": {
          "base_uri": "https://localhost:8080/",
          "height": 106
        },
        "id": "138952d9",
        "outputId": "2f5a8497-322c-4781-d651-2c1dce1cfe74"
      },
      "outputs": [
        {
          "output_type": "error",
          "ename": "SyntaxError",
          "evalue": "invalid syntax (ipython-input-1353273408.py, line 1)",
          "traceback": [
            "\u001b[0;36m  File \u001b[0;32m\"/tmp/ipython-input-1353273408.py\"\u001b[0;36m, line \u001b[0;32m1\u001b[0m\n\u001b[0;31m    D {}\u001b[0m\n\u001b[0m      ^\u001b[0m\n\u001b[0;31mSyntaxError\u001b[0m\u001b[0;31m:\u001b[0m invalid syntax\n"
          ]
        }
      ],
      "source": [
        "D = {}"
      ]
    },
    {
      "cell_type": "markdown",
      "id": "3acce992",
      "metadata": {
        "id": "3acce992"
      },
      "source": [
        "The curly braces, `{}`, represent an empty dictionary.\n",
        "To add items to the dictionary, we'll use square brackets."
      ]
    },
    {
      "cell_type": "code",
      "execution_count": 6,
      "id": "007ef505",
      "metadata": {
        "colab": {
          "base_uri": "https://localhost:8080/"
        },
        "id": "007ef505",
        "outputId": "4984fbdc-0972-445d-ada3-e149873752b8"
      },
      "outputs": [
        {
          "output_type": "stream",
          "name": "stdout",
          "text": [
            "{'earth': 0, 'mars': 1, 'venus': 2}\n"
          ]
        }
      ],
      "source": [
        "D = {}\n",
        "D['earth'] = 0\n",
        "D['mars'] = 1\n",
        "D['venus'] = 2\n",
        "print(D)"
      ]
    },
    {
      "cell_type": "markdown",
      "id": "1dbe12c3",
      "metadata": {
        "id": "1dbe12c3"
      },
      "source": [
        "This assignment adds to the dictionary an **item**, which represents the association of a **key** and a **value**.\n",
        "In this example, the key is the string `'zero'` and the value is the integer `0`.\n",
        "If we display the dictionary, we see that it contains one item, which contains a key and a value separated by a colon, `:`."
      ]
    },
    {
      "cell_type": "code",
      "execution_count": null,
      "id": "753a8fbc",
      "metadata": {
        "id": "753a8fbc"
      },
      "outputs": [],
      "source": []
    },
    {
      "cell_type": "markdown",
      "id": "ad32c23d",
      "metadata": {
        "id": "ad32c23d"
      },
      "source": [
        "We can add more items like this."
      ]
    },
    {
      "cell_type": "code",
      "execution_count": null,
      "id": "835aac1e",
      "metadata": {
        "id": "835aac1e"
      },
      "outputs": [],
      "source": []
    },
    {
      "cell_type": "markdown",
      "id": "278901e5",
      "metadata": {
        "id": "278901e5"
      },
      "source": [
        "Now the dictionary contains three items.\n",
        "\n",
        "To look up a key and get the corresponding value, we use the bracket operator."
      ]
    },
    {
      "cell_type": "code",
      "execution_count": 7,
      "id": "c0475cee",
      "metadata": {
        "colab": {
          "base_uri": "https://localhost:8080/"
        },
        "id": "c0475cee",
        "outputId": "e86274f6-2059-49a0-b127-3d6435ea9f12"
      },
      "outputs": [
        {
          "output_type": "stream",
          "name": "stdout",
          "text": [
            "1\n"
          ]
        }
      ],
      "source": [
        "print(D['mars'])"
      ]
    },
    {
      "cell_type": "markdown",
      "id": "df5724e6",
      "metadata": {
        "id": "df5724e6"
      },
      "source": [
        "If the key isn't in the dictionary, we get a `KeyError`."
      ]
    },
    {
      "cell_type": "code",
      "execution_count": null,
      "id": "30c37eef",
      "metadata": {
        "tags": [],
        "id": "30c37eef"
      },
      "outputs": [],
      "source": []
    },
    {
      "cell_type": "markdown",
      "id": "2a027a6b",
      "metadata": {
        "id": "2a027a6b"
      },
      "source": [
        "The `len` function works on dictionaries; it returns the number of items."
      ]
    },
    {
      "cell_type": "code",
      "execution_count": 8,
      "id": "1b4ea0c2",
      "metadata": {
        "colab": {
          "base_uri": "https://localhost:8080/"
        },
        "id": "1b4ea0c2",
        "outputId": "07366d54-c826-485c-f0db-84cab07d011f"
      },
      "outputs": [
        {
          "output_type": "stream",
          "name": "stdout",
          "text": [
            "3\n"
          ]
        }
      ],
      "source": [
        "print(len(D))"
      ]
    },
    {
      "cell_type": "markdown",
      "id": "58221e96",
      "metadata": {
        "id": "58221e96"
      },
      "source": [
        "In mathematical language, a dictionary represents a **mapping** from keys to values, so you can also say that each key \"maps to\" a value.\n",
        "In this example, each number word maps to the corresponding integer.\n",
        "\n",
        "The following figure shows the state diagram for `numbers`."
      ]
    },
    {
      "cell_type": "code",
      "execution_count": 10,
      "id": "eba36a24",
      "metadata": {
        "tags": [],
        "id": "eba36a24"
      },
      "outputs": [],
      "source": [
        "D = {'earth': 0, 'moon': 1, 'mars':2}"
      ]
    },
    {
      "cell_type": "code",
      "execution_count": 9,
      "id": "9016bf4b",
      "metadata": {
        "tags": [],
        "id": "9016bf4b"
      },
      "outputs": [],
      "source": [
        "D = dict()"
      ]
    },
    {
      "cell_type": "markdown",
      "id": "b092aa61",
      "metadata": {
        "id": "b092aa61"
      },
      "source": [
        "A dictionary is represented by a box with the word \"dict\" outside and the items inside.\n",
        "Each item is represented by a key and an arrow pointing to a value.\n",
        "The quotation marks indicate that the keys here are strings, not variable names."
      ]
    },
    {
      "cell_type": "markdown",
      "id": "2a0a128a",
      "metadata": {
        "id": "2a0a128a"
      },
      "source": [
        "## Creating dictionaries\n",
        "\n",
        "In the previous section we created an empty dictionary and added items one at a time using the bracket operator.\n",
        "Instead, we could have created the dictionary all at once like this."
      ]
    },
    {
      "cell_type": "code",
      "execution_count": null,
      "id": "19dfeecb",
      "metadata": {
        "id": "19dfeecb"
      },
      "outputs": [],
      "source": []
    },
    {
      "cell_type": "markdown",
      "id": "31ded5b2",
      "metadata": {
        "id": "31ded5b2"
      },
      "source": [
        "Each item consists of a key and a value separated by a colon.\n",
        "The items are separated by commas and enclosed in curly braces.\n",
        "\n",
        "Another way to create a dictionary is to use the `dict` function.\n",
        "We can make an empty dictionary like this."
      ]
    },
    {
      "cell_type": "code",
      "execution_count": null,
      "id": "39b81034",
      "metadata": {
        "id": "39b81034"
      },
      "outputs": [],
      "source": []
    },
    {
      "cell_type": "markdown",
      "id": "bfb215c9",
      "metadata": {
        "id": "bfb215c9"
      },
      "source": [
        "And we can make a copy of a dictionary like this."
      ]
    },
    {
      "cell_type": "code",
      "execution_count": 13,
      "id": "88fa12c5",
      "metadata": {
        "colab": {
          "base_uri": "https://localhost:8080/"
        },
        "id": "88fa12c5",
        "outputId": "8ea76dcf-cd54-429b-fc76-74c85a82545e"
      },
      "outputs": [
        {
          "output_type": "stream",
          "name": "stdout",
          "text": [
            "{'Rome': 'foggy', 'Milan': 'cloudy', 'Naples': 'sunny'}\n"
          ]
        }
      ],
      "source": [
        "D = dict()\n",
        "# D contains the weather in Rome, Naples and Milan\n",
        "D['Rome'] = 'sunny'\n",
        "D['Milan'] = 'cloudy'\n",
        "D['Naples'] = D['Rome']\n",
        "D['Rome'] = 'foggy'\n",
        "print(D)\n",
        "#\n"
      ]
    },
    {
      "cell_type": "code",
      "source": [
        "D2 = dict(D)\n",
        "\n",
        "print(D2)\n",
        "print(D)"
      ],
      "metadata": {
        "id": "KKWnqxEHcC64",
        "outputId": "a278da3b-67aa-41e5-90b9-22ebc9eeabf0",
        "colab": {
          "base_uri": "https://localhost:8080/"
        }
      },
      "id": "KKWnqxEHcC64",
      "execution_count": 14,
      "outputs": [
        {
          "output_type": "stream",
          "name": "stdout",
          "text": [
            "{'Rome': 'foggy', 'Milan': 'cloudy', 'Naples': 'sunny'}\n",
            "{'Rome': 'foggy', 'Milan': 'cloudy', 'Naples': 'sunny'}\n"
          ]
        }
      ]
    },
    {
      "cell_type": "code",
      "source": [
        "D2 = D\n",
        "D['florence'] = 'partially cloudy'\n",
        "print(D)\n",
        "print(D2)"
      ],
      "metadata": {
        "id": "lUbTjnvAdRPU",
        "outputId": "f7dc7041-3bd1-4d2e-c78d-1a6aed1d0c51",
        "colab": {
          "base_uri": "https://localhost:8080/"
        }
      },
      "id": "lUbTjnvAdRPU",
      "execution_count": 15,
      "outputs": [
        {
          "output_type": "stream",
          "name": "stdout",
          "text": [
            "{'Rome': 'foggy', 'Milan': 'cloudy', 'Naples': 'sunny', 'florence': 'partially cloudy'}\n",
            "{'Rome': 'foggy', 'Milan': 'cloudy', 'Naples': 'sunny', 'florence': 'partially cloudy'}\n"
          ]
        }
      ]
    },
    {
      "cell_type": "code",
      "source": [
        "D = dict()\n",
        "D['earth'] = 0\n",
        "D['mars'] = 1\n",
        "D['venus'] = 2\n",
        "print(D)\n"
      ],
      "metadata": {
        "id": "vm3ONkPQgbbY",
        "outputId": "11bb36fe-31d0-4fa9-9579-faf20af85df9",
        "colab": {
          "base_uri": "https://localhost:8080/"
        }
      },
      "id": "vm3ONkPQgbbY",
      "execution_count": 16,
      "outputs": [
        {
          "output_type": "stream",
          "name": "stdout",
          "text": [
            "{'earth': 0, 'mars': 1, 'venus': 2}\n"
          ]
        }
      ]
    },
    {
      "cell_type": "code",
      "source": [
        "D = {'earth': 0, 'mars': 1, 'venus': 2}\n",
        "\n",
        "print(0 in D)\n",
        "print('earth' in D)"
      ],
      "metadata": {
        "id": "OU-iUJbhggCJ",
        "outputId": "c797b764-4095-4db4-e8dc-e58956c22c3d",
        "colab": {
          "base_uri": "https://localhost:8080/"
        }
      },
      "id": "OU-iUJbhggCJ",
      "execution_count": 17,
      "outputs": [
        {
          "output_type": "stream",
          "name": "stdout",
          "text": [
            "False\n",
            "True\n"
          ]
        }
      ]
    },
    {
      "cell_type": "code",
      "source": [
        "def reverse_word(word):\n",
        "    return word[::-1]\n",
        "W = 'earth'\n",
        "print(reverse_word(W))"
      ],
      "metadata": {
        "id": "QWwqdG37hh1m",
        "outputId": "e38151d4-2904-4154-d168-3228f21c2ab8",
        "colab": {
          "base_uri": "https://localhost:8080/"
        }
      },
      "id": "QWwqdG37hh1m",
      "execution_count": 20,
      "outputs": [
        {
          "output_type": "stream",
          "name": "stdout",
          "text": [
            "htrae\n"
          ]
        }
      ]
    },
    {
      "cell_type": "code",
      "source": [],
      "metadata": {
        "id": "PzHWx_cqgvKc"
      },
      "id": "PzHWx_cqgvKc",
      "execution_count": null,
      "outputs": []
    },
    {
      "cell_type": "code",
      "source": [
        "#dict() bu fonksiyonla bir dictionary i kopyalarsan ve üstünde sonradan bir değişiklik yaparsan o değişiklik orjinal e yansımaz yani D ile D2 farklı olur. bir yandan D = D2 kullanırsan birinde yaptığın değişiklik öbürüne de yansır"
      ],
      "metadata": {
        "id": "PguurIq6gXdN"
      },
      "id": "PguurIq6gXdN",
      "execution_count": null,
      "outputs": []
    },
    {
      "cell_type": "markdown",
      "id": "966c5539",
      "metadata": {
        "id": "966c5539"
      },
      "source": [
        "It is often useful to make a copy before performing operations that modify dictionaries."
      ]
    },
    {
      "cell_type": "markdown",
      "id": "2a948f62",
      "metadata": {
        "tags": [],
        "id": "2a948f62"
      },
      "source": [
        "## The in operator\n",
        "\n",
        "The `in` operator works on dictionaries, too; it tells you whether something appears as a *key* in the dictionary."
      ]
    },
    {
      "cell_type": "code",
      "execution_count": null,
      "id": "025cad92",
      "metadata": {
        "id": "025cad92"
      },
      "outputs": [],
      "source": []
    },
    {
      "cell_type": "markdown",
      "id": "80f6b264",
      "metadata": {
        "id": "80f6b264"
      },
      "source": [
        "The `in` operator does *not* check whether something appears as a value."
      ]
    },
    {
      "cell_type": "code",
      "execution_count": null,
      "id": "65de12ab",
      "metadata": {
        "id": "65de12ab"
      },
      "outputs": [],
      "source": []
    },
    {
      "cell_type": "markdown",
      "id": "84856c8b",
      "metadata": {
        "id": "84856c8b"
      },
      "source": [
        "To see whether something appears as a value in a dictionary, you can use the method `values`, which returns a sequence of values, and then use the `in` operator."
      ]
    },
    {
      "cell_type": "code",
      "execution_count": null,
      "id": "87ddc1b2",
      "metadata": {
        "id": "87ddc1b2"
      },
      "outputs": [],
      "source": []
    },
    {
      "cell_type": "markdown",
      "id": "45dc3d16",
      "metadata": {
        "id": "45dc3d16"
      },
      "source": [
        "The items in a Python dictionary are stored in a **hash table**, which is a way of organizing data that has a remarkable property: the `in` operator takes about the same amount of time no matter how many items are in the dictionary.\n",
        "That makes it possible to write some remarkably efficient algorithms."
      ]
    },
    {
      "cell_type": "code",
      "execution_count": null,
      "id": "4849b563",
      "metadata": {
        "tags": [],
        "id": "4849b563"
      },
      "outputs": [],
      "source": []
    },
    {
      "cell_type": "markdown",
      "id": "bba0522c",
      "metadata": {
        "id": "bba0522c"
      },
      "source": [
        "To demonstrate, we'll compare two algorithms for finding pairs of words where one is the reverse of another -- like `stressed` and `desserts`.\n",
        "We'll start by reading the word list."
      ]
    },
    {
      "cell_type": "code",
      "execution_count": null,
      "id": "830b1208",
      "metadata": {
        "id": "830b1208"
      },
      "outputs": [],
      "source": []
    },
    {
      "cell_type": "markdown",
      "id": "ab29fb8a",
      "metadata": {
        "id": "ab29fb8a"
      },
      "source": [
        "And here's `reverse_word` from the previous chapter."
      ]
    },
    {
      "cell_type": "code",
      "execution_count": null,
      "id": "49231201",
      "metadata": {
        "id": "49231201"
      },
      "outputs": [],
      "source": []
    },
    {
      "cell_type": "markdown",
      "id": "93f7ac1b",
      "metadata": {
        "id": "93f7ac1b"
      },
      "source": [
        "The following function loops through the words in the list.\n",
        "For each one, it reverses the letters and then checks whether the reversed word in the word list."
      ]
    },
    {
      "cell_type": "code",
      "execution_count": null,
      "id": "a41759fb",
      "metadata": {
        "id": "a41759fb"
      },
      "outputs": [],
      "source": []
    },
    {
      "cell_type": "markdown",
      "id": "d4ebb84d",
      "metadata": {
        "id": "d4ebb84d"
      },
      "source": [
        "This function takes more than a minute to run.\n",
        "The problem is that the `in` operator checks the words in the list one at a time, starting at the beginning.\n",
        "If it doesn't find what it's looking for -- which happens most of the time -- it has to search all the way to the end."
      ]
    },
    {
      "cell_type": "code",
      "execution_count": null,
      "id": "33bcddf8",
      "metadata": {
        "tags": [],
        "id": "33bcddf8"
      },
      "outputs": [],
      "source": []
    },
    {
      "cell_type": "markdown",
      "id": "2acb6c50",
      "metadata": {
        "id": "2acb6c50"
      },
      "source": [
        "And the `in` operator is inside the loop, so it runs once for each word.\n",
        "Since there are more than 100,000 words in the list, and for each one we check more than 100,000 words, the total number of comparisons is the number of words squared -- roughly -- which is almost 13 billion."
      ]
    },
    {
      "cell_type": "code",
      "execution_count": null,
      "id": "f2869dd0",
      "metadata": {
        "id": "f2869dd0"
      },
      "outputs": [],
      "source": []
    },
    {
      "cell_type": "markdown",
      "id": "5dbf01b7",
      "metadata": {
        "id": "5dbf01b7"
      },
      "source": [
        "We can make this function much faster with a dictionary.\n",
        "The following loop creates a dictionary that contains the words as keys."
      ]
    },
    {
      "cell_type": "code",
      "execution_count": null,
      "id": "300416d9",
      "metadata": {
        "id": "300416d9"
      },
      "outputs": [],
      "source": []
    },
    {
      "cell_type": "markdown",
      "id": "b7f6a1b7",
      "metadata": {
        "id": "b7f6a1b7"
      },
      "source": [
        "The values in `word_dict` are all `1`, but they could be anything, because we won't ever look them up -- we will only use this dictionary to check whether a key exists.\n",
        "\n",
        "Now here's a version of the previous function that replaces `word_list` with `word_dict`."
      ]
    },
    {
      "cell_type": "code",
      "execution_count": null,
      "id": "9d3dfd8d",
      "metadata": {
        "id": "9d3dfd8d"
      },
      "outputs": [],
      "source": []
    },
    {
      "cell_type": "markdown",
      "id": "5f41e54c",
      "metadata": {
        "id": "5f41e54c"
      },
      "source": [
        "This function takes less than one hundredth of a second, so it's about 10,000 times faster than the previous version."
      ]
    },
    {
      "cell_type": "code",
      "execution_count": null,
      "id": "82b36568",
      "metadata": {
        "tags": [],
        "id": "82b36568"
      },
      "outputs": [],
      "source": []
    },
    {
      "cell_type": "markdown",
      "id": "4cd91c99",
      "metadata": {
        "id": "4cd91c99"
      },
      "source": [
        "In general, the time it takes to find an element in a list is proportional to the length of the list.\n",
        "The time it takes to find a key in a dictionary is almost constant -- regardless of the number of items."
      ]
    },
    {
      "cell_type": "code",
      "execution_count": null,
      "id": "aa079ed3",
      "metadata": {
        "id": "aa079ed3"
      },
      "outputs": [],
      "source": []
    },
    {
      "cell_type": "markdown",
      "id": "b3bfa8a5",
      "metadata": {
        "id": "b3bfa8a5"
      },
      "source": [
        "## A collection of counters\n",
        "\n",
        "Suppose you are given a string and you want to count how many times each letter appears.\n",
        "A dictionary is a good tool for this job.\n",
        "We'll start with an empty dictionary."
      ]
    },
    {
      "cell_type": "code",
      "execution_count": 21,
      "id": "7c21ff00",
      "metadata": {
        "id": "7c21ff00"
      },
      "outputs": [],
      "source": [
        "#Lorem Ipsum Dolor Sıt Amet.   bu cümledeki her harfin kaçar tane olduğunu saymak istiyoruz. dictionary kullanabiliriz. for loop ta kullanılıbilir.  looplara çalışmalısın\n",
        "#'A' : 1\n",
        "#'E' : 2\n",
        "#'m' : 3"
      ]
    },
    {
      "cell_type": "markdown",
      "id": "34a9498a",
      "metadata": {
        "id": "34a9498a"
      },
      "source": [
        "As we loop through the letters in the string, suppose we see the letter `'a'` for the first time.\n",
        "We can add it to the dictionary like this."
      ]
    },
    {
      "cell_type": "code",
      "execution_count": 22,
      "id": "7d0afb00",
      "metadata": {
        "id": "7d0afb00"
      },
      "outputs": [],
      "source": [
        "counters  = dict()\n",
        "text = 'Morbi feugiat dui eget sollicitudin ultricies'"
      ]
    },
    {
      "cell_type": "markdown",
      "id": "bca9fa11",
      "metadata": {
        "id": "bca9fa11"
      },
      "source": [
        "The value `1` indicates that we have seen the letter once.\n",
        "Later, if we see the same letter again, we can increment the counter like this."
      ]
    },
    {
      "cell_type": "code",
      "execution_count": 28,
      "id": "ba97b5ea",
      "metadata": {
        "colab": {
          "base_uri": "https://localhost:8080/",
          "height": 211
        },
        "id": "ba97b5ea",
        "outputId": "5d704a0e-beb8-4608-ca1e-4fdf36a32a8b"
      },
      "outputs": [
        {
          "output_type": "error",
          "ename": "TypeError",
          "evalue": "'builtin_function_or_method' object is not iterable",
          "traceback": [
            "\u001b[0;31m---------------------------------------------------------------------------\u001b[0m",
            "\u001b[0;31mTypeError\u001b[0m                                 Traceback (most recent call last)",
            "\u001b[0;32m/tmp/ipython-input-2945839372.py\u001b[0m in \u001b[0;36m<cell line: 0>\u001b[0;34m()\u001b[0m\n\u001b[0;32m----> 1\u001b[0;31m \u001b[0;32mfor\u001b[0m \u001b[0mletter\u001b[0m \u001b[0;32min\u001b[0m \u001b[0mtext\u001b[0m\u001b[0;34m.\u001b[0m\u001b[0msplit\u001b[0m\u001b[0;34m:\u001b[0m\u001b[0;34m\u001b[0m\u001b[0;34m\u001b[0m\u001b[0m\n\u001b[0m\u001b[1;32m      2\u001b[0m   \u001b[0;32mif\u001b[0m \u001b[0mletter\u001b[0m \u001b[0;34m!=\u001b[0m \u001b[0;34m' '\u001b[0m\u001b[0;34m:\u001b[0m\u001b[0;34m\u001b[0m\u001b[0;34m\u001b[0m\u001b[0m\n\u001b[1;32m      3\u001b[0m     \u001b[0;32mif\u001b[0m \u001b[0mletter\u001b[0m \u001b[0;32mnot\u001b[0m \u001b[0;32min\u001b[0m \u001b[0mcounters\u001b[0m\u001b[0;34m:\u001b[0m\u001b[0;34m\u001b[0m\u001b[0;34m\u001b[0m\u001b[0m\n\u001b[1;32m      4\u001b[0m         \u001b[0mcounters\u001b[0m\u001b[0;34m[\u001b[0m\u001b[0mletter\u001b[0m\u001b[0;34m]\u001b[0m \u001b[0;34m=\u001b[0m \u001b[0;36m1\u001b[0m\u001b[0;34m\u001b[0m\u001b[0;34m\u001b[0m\u001b[0m\n\u001b[1;32m      5\u001b[0m     \u001b[0;32melse\u001b[0m\u001b[0;34m:\u001b[0m\u001b[0;34m\u001b[0m\u001b[0;34m\u001b[0m\u001b[0m\n",
            "\u001b[0;31mTypeError\u001b[0m: 'builtin_function_or_method' object is not iterable"
          ]
        }
      ],
      "source": [
        "for letter in text.split:\n",
        "  if letter != ' ':\n",
        "    if letter not in counters:\n",
        "        counters[letter] = 1\n",
        "    else:\n",
        "        counters[letter] += 1\n",
        "print(counters)"
      ]
    },
    {
      "cell_type": "code",
      "source": [
        "counters  = dict()\n",
        "text = 'Morbi feugiat dui eget sollicitudin ultricies'\n",
        "for letter in text.split:\n",
        "  if letter != ' ':\n",
        "    if letter not in counters:\n",
        "        counters[letter] = 1\n",
        "    else:\n",
        "        counters[letter] += 1\n",
        "print(counters)"
      ],
      "metadata": {
        "id": "0Mu_TElVmKCj",
        "outputId": "0071266d-f6d8-43d5-d5e9-3293b0a36827",
        "colab": {
          "base_uri": "https://localhost:8080/",
          "height": 211
        }
      },
      "id": "0Mu_TElVmKCj",
      "execution_count": 27,
      "outputs": [
        {
          "output_type": "error",
          "ename": "TypeError",
          "evalue": "'builtin_function_or_method' object is not iterable",
          "traceback": [
            "\u001b[0;31m---------------------------------------------------------------------------\u001b[0m",
            "\u001b[0;31mTypeError\u001b[0m                                 Traceback (most recent call last)",
            "\u001b[0;32m/tmp/ipython-input-4202941538.py\u001b[0m in \u001b[0;36m<cell line: 0>\u001b[0;34m()\u001b[0m\n\u001b[1;32m      1\u001b[0m \u001b[0mcounters\u001b[0m  \u001b[0;34m=\u001b[0m \u001b[0mdict\u001b[0m\u001b[0;34m(\u001b[0m\u001b[0;34m)\u001b[0m\u001b[0;34m\u001b[0m\u001b[0;34m\u001b[0m\u001b[0m\n\u001b[1;32m      2\u001b[0m \u001b[0mtext\u001b[0m \u001b[0;34m=\u001b[0m \u001b[0;34m'Morbi feugiat dui eget sollicitudin ultricies'\u001b[0m\u001b[0;34m\u001b[0m\u001b[0;34m\u001b[0m\u001b[0m\n\u001b[0;32m----> 3\u001b[0;31m \u001b[0;32mfor\u001b[0m \u001b[0mletter\u001b[0m \u001b[0;32min\u001b[0m \u001b[0mtext\u001b[0m\u001b[0;34m.\u001b[0m\u001b[0msplit\u001b[0m\u001b[0;34m:\u001b[0m\u001b[0;34m\u001b[0m\u001b[0;34m\u001b[0m\u001b[0m\n\u001b[0m\u001b[1;32m      4\u001b[0m   \u001b[0;32mif\u001b[0m \u001b[0mletter\u001b[0m \u001b[0;34m!=\u001b[0m \u001b[0;34m' '\u001b[0m\u001b[0;34m:\u001b[0m\u001b[0;34m\u001b[0m\u001b[0;34m\u001b[0m\u001b[0m\n\u001b[1;32m      5\u001b[0m     \u001b[0;32mif\u001b[0m \u001b[0mletter\u001b[0m \u001b[0;32mnot\u001b[0m \u001b[0;32min\u001b[0m \u001b[0mcounters\u001b[0m\u001b[0;34m:\u001b[0m\u001b[0;34m\u001b[0m\u001b[0;34m\u001b[0m\u001b[0m\n",
            "\u001b[0;31mTypeError\u001b[0m: 'builtin_function_or_method' object is not iterable"
          ]
        }
      ]
    },
    {
      "cell_type": "markdown",
      "id": "274ea014",
      "metadata": {
        "id": "274ea014"
      },
      "source": [
        "Now the value associated with `'a'` is `2`, because we've seen the letter twice."
      ]
    },
    {
      "cell_type": "code",
      "execution_count": null,
      "id": "30ffe9b4",
      "metadata": {
        "id": "30ffe9b4"
      },
      "outputs": [],
      "source": []
    },
    {
      "cell_type": "markdown",
      "id": "2ca8f99d",
      "metadata": {
        "id": "2ca8f99d"
      },
      "source": [
        "The following function uses these features to count the number of times each letter appears in a string."
      ]
    },
    {
      "cell_type": "code",
      "execution_count": null,
      "id": "36f95332",
      "metadata": {
        "id": "36f95332"
      },
      "outputs": [],
      "source": []
    },
    {
      "cell_type": "markdown",
      "id": "735c758b",
      "metadata": {
        "id": "735c758b"
      },
      "source": [
        "Each time through the loop, if `letter` is not in the dictionary, we create a new item with key `letter` and value `1`.\n",
        "If `letter` is already in the dictionary we increment the value associated with `letter`.\n",
        "\n",
        "Here's an example."
      ]
    },
    {
      "cell_type": "code",
      "execution_count": null,
      "id": "d6f1048e",
      "metadata": {
        "id": "d6f1048e"
      },
      "outputs": [],
      "source": []
    },
    {
      "cell_type": "markdown",
      "id": "8ac1fea4",
      "metadata": {
        "id": "8ac1fea4"
      },
      "source": [
        "The items in `counter` show that the letter `'b'` appears once, `'r'` appears twice, and so on."
      ]
    },
    {
      "cell_type": "markdown",
      "id": "912bdf5d",
      "metadata": {
        "id": "912bdf5d"
      },
      "source": [
        "## Looping and dictionaries\n",
        "\n",
        "If you use a dictionary in a `for` statement, it traverses the keys of the dictionary.\n",
        "To demonstrate, let's make a dictionary that counts the letters in `'banana'`."
      ]
    },
    {
      "cell_type": "code",
      "execution_count": null,
      "id": "310e1489",
      "metadata": {
        "id": "310e1489"
      },
      "outputs": [],
      "source": []
    },
    {
      "cell_type": "markdown",
      "id": "fe263f3d",
      "metadata": {
        "id": "fe263f3d"
      },
      "source": [
        "The following loop prints the keys, which are the letters."
      ]
    },
    {
      "cell_type": "code",
      "execution_count": null,
      "id": "da4ec7fd",
      "metadata": {
        "id": "da4ec7fd"
      },
      "outputs": [],
      "source": []
    },
    {
      "cell_type": "markdown",
      "id": "bf1b7824",
      "metadata": {
        "id": "bf1b7824"
      },
      "source": [
        "To print the values, we can use the `values` method."
      ]
    },
    {
      "cell_type": "code",
      "execution_count": null,
      "id": "859fe1ad",
      "metadata": {
        "id": "859fe1ad"
      },
      "outputs": [],
      "source": []
    },
    {
      "cell_type": "markdown",
      "id": "721135be",
      "metadata": {
        "id": "721135be"
      },
      "source": [
        "To print the keys and values, we can loop through the keys and look up the corresponding values."
      ]
    },
    {
      "cell_type": "code",
      "execution_count": null,
      "id": "7242ab5b",
      "metadata": {
        "id": "7242ab5b"
      },
      "outputs": [],
      "source": []
    },
    {
      "cell_type": "markdown",
      "id": "efa1bce5",
      "metadata": {
        "id": "efa1bce5"
      },
      "source": [
        "In the next chapter, we'll see a more concise way to do the same thing."
      ]
    },
    {
      "cell_type": "markdown",
      "id": "a160c0ef",
      "metadata": {
        "id": "a160c0ef"
      },
      "source": [
        "## Lists and dictionaries\n",
        "\n",
        "You can put a list in a dictionary as a value.\n",
        "For example, here's a dictionary that maps from the number `4` to a list of four letters."
      ]
    },
    {
      "cell_type": "code",
      "execution_count": null,
      "id": "29cd8207",
      "metadata": {
        "id": "29cd8207"
      },
      "outputs": [],
      "source": []
    },
    {
      "cell_type": "markdown",
      "id": "815a829f",
      "metadata": {
        "id": "815a829f"
      },
      "source": [
        "But you can't put a list in a dictionary as a key.\n",
        "Here's what happens if we try."
      ]
    },
    {
      "cell_type": "code",
      "execution_count": null,
      "id": "ca9ff511",
      "metadata": {
        "tags": [],
        "id": "ca9ff511"
      },
      "outputs": [],
      "source": []
    },
    {
      "cell_type": "markdown",
      "id": "2469b08a",
      "metadata": {
        "id": "2469b08a"
      },
      "source": [
        "I mentioned earlier that dictionaries use hash tables, and that means that the keys have to be **hashable**.\n",
        "\n",
        "A **hash** is a function that takes a value (of any kind) and returns an integer.\n",
        "Dictionaries use these integers, called hash values, to store and look up keys.\n",
        "\n",
        "This system only works if a key is immutable, so its hash value is always the same.\n",
        "But if a key is mutable, its hash value could change, and the dictionary would not work.\n",
        "That's why keys have to be hashable, and why mutable types like lists aren't.\n",
        "\n",
        "Since dictionaries are mutable, they can't be used as keys, either.\n",
        "But they *can* be used as values."
      ]
    },
    {
      "cell_type": "markdown",
      "id": "acfd2720",
      "metadata": {
        "tags": [],
        "id": "acfd2720"
      },
      "source": [
        "## Accumulating a list\n",
        "\n",
        "For many programming tasks, it is useful to loop through one list or dictionary while building another.\n",
        "As an example, we'll loop through the words in `word_dict` and make a list of palindromes -- that is, words that are spelled the same backward and forward, like \"noon\" and \"rotator\".\n",
        "\n",
        "In the previous chapter, one of the exercises asked you to write a function that checks whether a word is a palindrome.\n",
        "Here's a solution that uses `reverse_word`."
      ]
    },
    {
      "cell_type": "code",
      "execution_count": null,
      "id": "0647278e",
      "metadata": {
        "id": "0647278e"
      },
      "outputs": [],
      "source": []
    },
    {
      "cell_type": "markdown",
      "id": "af545fcd",
      "metadata": {
        "id": "af545fcd"
      },
      "source": [
        "If we loop through the words in `word_dict`, we can count the number of palindromes like this."
      ]
    },
    {
      "cell_type": "code",
      "execution_count": null,
      "id": "9eff9f2c",
      "metadata": {
        "id": "9eff9f2c"
      },
      "outputs": [],
      "source": []
    },
    {
      "cell_type": "markdown",
      "id": "73c1ce1e",
      "metadata": {
        "id": "73c1ce1e"
      },
      "source": [
        "By now, this pattern is familiar.\n",
        "\n",
        "* Before the loop, `count` is initialized to `0`.\n",
        "\n",
        "* Inside the loop, if `word` is a palindrome, we increment `count`.\n",
        "\n",
        "* When the loop ends, `count` contains the total number of palindromes.\n",
        "\n",
        "We can use a similar pattern to make a list of palindromes."
      ]
    },
    {
      "cell_type": "code",
      "execution_count": null,
      "id": "609bdd9a",
      "metadata": {
        "id": "609bdd9a"
      },
      "outputs": [],
      "source": []
    },
    {
      "cell_type": "markdown",
      "id": "be909f3b",
      "metadata": {
        "id": "be909f3b"
      },
      "source": [
        "Here's how it works:\n",
        "\n",
        "* Before the loop, `palindromes` is initialized with an empty list.\n",
        "\n",
        "* Inside the loop, if `word` is a palindrome, we append it to the end of `palindromes`.\n",
        "\n",
        "* When the loop ends, `palindromes` is a list of palindromes.\n",
        "\n",
        "In this loop, `palindromes` is used as an **accumulator**, which is a variable that collects or accumulates data during a computation.\n",
        "\n",
        "Now suppose we want to select only palindromes with seven or more letters.\n",
        "We can loop through `palindromes` and make a new list that contains only long palindromes."
      ]
    },
    {
      "cell_type": "code",
      "execution_count": null,
      "id": "c2db1187",
      "metadata": {
        "id": "c2db1187"
      },
      "outputs": [],
      "source": []
    },
    {
      "cell_type": "markdown",
      "id": "fa8ed275",
      "metadata": {
        "id": "fa8ed275"
      },
      "source": [
        "Looping through a list like this, selecting some elements and omitting others, is called **filtering**."
      ]
    },
    {
      "cell_type": "markdown",
      "id": "8ed50837",
      "metadata": {
        "tags": [],
        "id": "8ed50837"
      },
      "source": [
        "## Memos\n",
        "\n",
        "If you ran the `fibonacci` function from [Chapter 6](section_fibonacci), maybe you noticed that the bigger the argument you provide, the longer the function takes to run."
      ]
    },
    {
      "cell_type": "code",
      "execution_count": null,
      "id": "13a7ed35",
      "metadata": {
        "id": "13a7ed35"
      },
      "outputs": [],
      "source": []
    },
    {
      "cell_type": "markdown",
      "id": "1b5203c2",
      "metadata": {
        "id": "1b5203c2"
      },
      "source": [
        "Furthermore, the run time increases quickly.\n",
        "To understand why, consider the following figure, which shows the **call graph** for\n",
        "`fibonacci` with `n=4`:"
      ]
    },
    {
      "cell_type": "code",
      "execution_count": null,
      "id": "7ed6137a",
      "metadata": {
        "tags": [],
        "id": "7ed6137a"
      },
      "outputs": [],
      "source": []
    },
    {
      "cell_type": "code",
      "execution_count": null,
      "id": "a9374c39",
      "metadata": {
        "tags": [],
        "id": "a9374c39"
      },
      "outputs": [],
      "source": []
    },
    {
      "cell_type": "code",
      "execution_count": null,
      "id": "12098be7",
      "metadata": {
        "tags": [],
        "id": "12098be7"
      },
      "outputs": [],
      "source": []
    },
    {
      "cell_type": "markdown",
      "id": "4ee2a87c",
      "metadata": {
        "id": "4ee2a87c"
      },
      "source": [
        "A call graph shows a set of function frames, with lines connecting each frame to the frames of the functions it calls.\n",
        "At the top of the graph, `fibonacci` with `n=4` calls `fibonacci` with ` n=3` and `n=2`.\n",
        "In turn, `fibonacci` with `n=3` calls `fibonacci` with `n=2` and `n=1`. And so on.\n",
        "\n",
        "Count how many times `fibonacci(0)` and `fibonacci(1)` are called.\n",
        "This is an inefficient solution to the problem, and it gets worse as the argument gets bigger.\n",
        "\n",
        "One solution is to keep track of values that have already been computed by storing them in a dictionary.\n",
        "A previously computed value that is stored for later use is called a **memo**.\n",
        "Here is a \"memoized\" version of `fibonacci`:"
      ]
    },
    {
      "cell_type": "code",
      "execution_count": null,
      "id": "28e443f5",
      "metadata": {
        "id": "28e443f5"
      },
      "outputs": [],
      "source": []
    },
    {
      "cell_type": "markdown",
      "id": "d2ac4dd7",
      "metadata": {
        "id": "d2ac4dd7"
      },
      "source": [
        "`known` is a dictionary that keeps track of the Fibonacci numbers we already know\n",
        "It starts with two items: `0` maps to `0` and `1` maps to `1`.\n",
        "\n",
        "Whenever `fibonacci_memo` is called, it checks `known`.\n",
        "If the result is already there, it can return immediately.\n",
        "Otherwise it has to compute the new value, add it to the dictionary, and return it.\n",
        "\n",
        "Comparing the two functions, `fibonacci(40)` takes about 30 seconds to run.\n",
        "`fibonacci_memo(40)` takes about 30 microseconds, so it's a million times faster.\n",
        "In the notebook for this chapter, you'll see where these measurements come from."
      ]
    },
    {
      "cell_type": "markdown",
      "id": "c6f39f84",
      "metadata": {
        "tags": [],
        "id": "c6f39f84"
      },
      "source": [
        "To measure how long a function takes, we can use `%time` which is one of Jupyter's \"built-in magic commands\".\n",
        "These commands are not part of the Python language, so they might not work in other development environments."
      ]
    },
    {
      "cell_type": "code",
      "execution_count": null,
      "id": "af818c11",
      "metadata": {
        "tags": [],
        "id": "af818c11"
      },
      "outputs": [],
      "source": []
    },
    {
      "cell_type": "code",
      "execution_count": null,
      "id": "7316d721",
      "metadata": {
        "tags": [],
        "id": "7316d721"
      },
      "outputs": [],
      "source": []
    },
    {
      "cell_type": "markdown",
      "id": "ec969e51",
      "metadata": {
        "id": "ec969e51"
      },
      "source": [
        "## Debugging\n",
        "\n",
        "As you work with bigger datasets it can become unwieldy to debug by printing and checking the output by hand. Here are some suggestions for debugging large datasets:\n",
        "\n",
        "1.  Scale down the input: If possible, reduce the size of the dataset. For example if the\n",
        "    program reads a text file, start with just the first 10 lines, or\n",
        "    with the smallest example you can find. You can either edit the\n",
        "    files themselves, or (better) modify the program so it reads only\n",
        "    the first `n` lines.\n",
        "\n",
        "    If there is an error, you can reduce `n` to the smallest value where the error occurs.\n",
        "    As you find and correct errors, you can increase `n` gradually."
      ]
    },
    {
      "cell_type": "markdown",
      "id": "1a62288b",
      "metadata": {
        "id": "1a62288b"
      },
      "source": [
        "2. Check summaries and types: Instead of printing and checking the entire dataset, consider\n",
        "    printing summaries of the data -- for example, the number of items in\n",
        "    a dictionary or the total of a list of numbers.\n",
        "\n",
        "    A common cause of runtime errors is a value that is not the right type. For debugging this kind of error, it is often enough to print the type of a value."
      ]
    },
    {
      "cell_type": "markdown",
      "id": "c749ea3c",
      "metadata": {
        "id": "c749ea3c"
      },
      "source": [
        "3. Write self-checks: Sometimes you can write code to check for errors automatically. For\n",
        "    example, if you are computing the average of a list of numbers, you\n",
        "    could check that the result is not greater than the largest element\n",
        "    in the list or less than the smallest. This is called a \"sanity\n",
        "    check\" because it detects results that are \"insane\".\n",
        "\n",
        "    Another kind of check compares the results of two different computations to see if they are consistent. This is called a \"consistency check\"."
      ]
    },
    {
      "cell_type": "markdown",
      "id": "749b91e9",
      "metadata": {
        "id": "749b91e9"
      },
      "source": [
        "4. Format the output: Formatting debugging output can make it easier to spot an error. We saw an example in [Chapter 6](section_debugging_factorial). Another tool you might find useful is the `pprint` module, which provides a `pprint` function that displays built-in types in a more human-readable format (`pprint` stands for \"pretty print\").\n",
        "\n",
        "    Again, time you spend building scaffolding can reduce the time you spend debugging."
      ]
    },
    {
      "cell_type": "markdown",
      "id": "9820175f",
      "metadata": {
        "id": "9820175f"
      },
      "source": [
        "## Glossary\n",
        "\n",
        "**dictionary:**\n",
        " An object that contains key-value pairs, also called items.\n",
        "\n",
        "**item:**\n",
        " In a dictionary, another name for a key-value pair.\n",
        "\n",
        "**key:**\n",
        " An object that appears in a dictionary as the first part of a key-value pair.\n",
        "\n",
        "**value:**\n",
        " An object that appears in a dictionary as the second part of a key-value pair. This is more specific than our previous use of the word \"value\".\n",
        "\n",
        "**mapping:**\n",
        "  A relationship in which each element of one set corresponds to an element of another set.\n",
        "\n",
        "**hash table:**\n",
        "A collection of key-value pairs organized so that we can look up a key and find its value efficiently.\n",
        "\n",
        "**hashable:**\n",
        " Immutable types like integers, floats and strings are hashable.\n",
        " Mutable types like lists and dictionaries are not.\n",
        "\n",
        "**hash function:**\n",
        "A function that takes an object and computes an integer that is used to locate a key in a hash table.\n",
        "\n",
        "**accumulator:**\n",
        " A variable used in a loop to add up or accumulate a result.\n",
        "\n",
        "**filtering:**\n",
        "Looping through a sequence and selecting or omitting elements.\n",
        "\n",
        "**call graph:**\n",
        "A diagram that shows every frame created during the execution of a program, with an arrow from each caller to each callee.\n",
        "\n",
        "**memo:**\n",
        " A computed value stored to avoid unnecessary future computation."
      ]
    },
    {
      "cell_type": "markdown",
      "id": "906c1236",
      "metadata": {
        "id": "906c1236"
      },
      "source": [
        "## Exercises"
      ]
    },
    {
      "cell_type": "code",
      "execution_count": null,
      "id": "1e3c12ec",
      "metadata": {
        "tags": [],
        "id": "1e3c12ec"
      },
      "outputs": [],
      "source": []
    },
    {
      "cell_type": "markdown",
      "id": "170f1deb",
      "metadata": {
        "id": "170f1deb"
      },
      "source": [
        "### Ask an assistant\n",
        "\n",
        "In this chapter, I said the keys in a dictionary have to be hashable and I gave a short explanation. If you would like more details, ask a virtual assistant, \"Why do keys in Python dictionaries have to be hashable?\"\n",
        "\n",
        "In [a previous section](section_dictionary_in_operator), we stored a list of words as keys in a dictionary so that we could use an efficient version of the `in` operator.\n",
        "We could have done the same thing using a `set`, which is another built-in data type.\n",
        "Ask a virtual assistant, \"How do I make a Python set from a list of strings and check whether a string is an element of the set?\""
      ]
    },
    {
      "cell_type": "markdown",
      "id": "badf7d65",
      "metadata": {
        "id": "badf7d65"
      },
      "source": [
        "### Exercise\n",
        "\n",
        "Dictionaries have a method called `get` that takes a key and a default value.\n",
        "If the key appears in the dictionary, `get` returns the corresponding value; otherwise it returns the default value.\n",
        "For example, here's a dictionary that maps from the letters in a string to the number of times they appear."
      ]
    },
    {
      "cell_type": "code",
      "execution_count": null,
      "id": "06e437d9",
      "metadata": {
        "id": "06e437d9"
      },
      "outputs": [],
      "source": []
    },
    {
      "cell_type": "markdown",
      "id": "c3f6458d",
      "metadata": {
        "id": "c3f6458d"
      },
      "source": [
        "If we look up a letter that appears in the word, `get` returns the number of times it appears."
      ]
    },
    {
      "cell_type": "code",
      "execution_count": null,
      "id": "fc328161",
      "metadata": {
        "id": "fc328161"
      },
      "outputs": [],
      "source": []
    },
    {
      "cell_type": "markdown",
      "id": "49bbff3e",
      "metadata": {
        "id": "49bbff3e"
      },
      "source": [
        "If we look up a letter that doesn't appear, we get the default value, `0`."
      ]
    },
    {
      "cell_type": "code",
      "execution_count": null,
      "id": "674b6663",
      "metadata": {
        "id": "674b6663"
      },
      "outputs": [],
      "source": []
    },
    {
      "cell_type": "markdown",
      "id": "4ac3210f",
      "metadata": {
        "id": "4ac3210f"
      },
      "source": [
        "Use `get` to write a more concise version of `value_counts`.\n",
        "You should be able to eliminate the `if` statement."
      ]
    },
    {
      "cell_type": "markdown",
      "id": "5413af6e",
      "metadata": {
        "id": "5413af6e"
      },
      "source": [
        "### Exercise\n",
        "\n",
        "What is the longest word you can think of where each letter appears only once?\n",
        "Let's see if we can find one longer than `unpredictably`.\n",
        "\n",
        "Write a function named `has_duplicates` that takes a sequence -- like a list or string -- as a parameter and returns `True` if there is any element that appears in the sequence more than once."
      ]
    },
    {
      "cell_type": "markdown",
      "id": "9879d9e7",
      "metadata": {
        "tags": [],
        "id": "9879d9e7"
      },
      "source": [
        "To get you started, here's an outline of the function with doctests."
      ]
    },
    {
      "cell_type": "code",
      "execution_count": null,
      "id": "1744d3e9",
      "metadata": {
        "tags": [],
        "id": "1744d3e9"
      },
      "outputs": [],
      "source": []
    },
    {
      "cell_type": "code",
      "execution_count": null,
      "id": "061e2903",
      "metadata": {
        "id": "061e2903"
      },
      "outputs": [],
      "source": []
    },
    {
      "cell_type": "markdown",
      "id": "d8c85906",
      "metadata": {
        "tags": [],
        "id": "d8c85906"
      },
      "source": [
        "You can use `doctest` to test your function."
      ]
    },
    {
      "cell_type": "code",
      "execution_count": null,
      "id": "62dcdf4d",
      "metadata": {
        "tags": [],
        "id": "62dcdf4d"
      },
      "outputs": [],
      "source": []
    },
    {
      "cell_type": "markdown",
      "id": "ce4df190",
      "metadata": {
        "tags": [],
        "id": "ce4df190"
      },
      "source": [
        "You can use this loop to find the longest words with no repeated letters."
      ]
    },
    {
      "cell_type": "code",
      "execution_count": null,
      "id": "a1143193",
      "metadata": {
        "tags": [],
        "id": "a1143193"
      },
      "outputs": [],
      "source": []
    },
    {
      "cell_type": "markdown",
      "id": "afd5f3b6",
      "metadata": {
        "id": "afd5f3b6"
      },
      "source": [
        "### Exercise\n",
        "\n",
        "Write function called `find_repeats` that takes a dictionary that maps from each key to a counter, like the result from `value_counts`.\n",
        "It should loop through the dictionary and return a list of keys that have counts greater than `1`.\n",
        "You can use the following outline to get started."
      ]
    },
    {
      "cell_type": "code",
      "execution_count": null,
      "id": "9ea333ff",
      "metadata": {
        "id": "9ea333ff"
      },
      "outputs": [],
      "source": []
    },
    {
      "cell_type": "code",
      "execution_count": null,
      "id": "bbd6d241",
      "metadata": {
        "id": "bbd6d241"
      },
      "outputs": [],
      "source": []
    },
    {
      "cell_type": "markdown",
      "id": "b9b0cbec",
      "metadata": {
        "tags": [],
        "id": "b9b0cbec"
      },
      "source": [
        "You can use the following examples to test your code.\n",
        "First, we'll make a dictionary that maps from letters to counts."
      ]
    },
    {
      "cell_type": "code",
      "execution_count": null,
      "id": "ac983c6f",
      "metadata": {
        "tags": [],
        "id": "ac983c6f"
      },
      "outputs": [],
      "source": []
    },
    {
      "cell_type": "markdown",
      "id": "3aa62942",
      "metadata": {
        "tags": [],
        "id": "3aa62942"
      },
      "source": [
        "The result from `find_repeats` should be `['a', 'n']`."
      ]
    },
    {
      "cell_type": "code",
      "execution_count": null,
      "id": "214345d8",
      "metadata": {
        "tags": [],
        "id": "214345d8"
      },
      "outputs": [],
      "source": []
    },
    {
      "cell_type": "markdown",
      "id": "3eaf77f8",
      "metadata": {
        "tags": [],
        "id": "3eaf77f8"
      },
      "source": [
        "Here's another example that starts with a list of numbers.\n",
        "The result should be `[1, 2]`."
      ]
    },
    {
      "cell_type": "code",
      "execution_count": null,
      "id": "10e9d54a",
      "metadata": {
        "tags": [],
        "id": "10e9d54a"
      },
      "outputs": [],
      "source": []
    },
    {
      "cell_type": "markdown",
      "id": "1c700d84",
      "metadata": {
        "id": "1c700d84"
      },
      "source": [
        "### Exercise\n",
        "\n",
        "Suppose you run `value_counts` with two different words and save the results in two dictionaries."
      ]
    },
    {
      "cell_type": "code",
      "execution_count": null,
      "id": "c97e2419",
      "metadata": {
        "id": "c97e2419"
      },
      "outputs": [],
      "source": []
    },
    {
      "cell_type": "markdown",
      "id": "deb14c7a",
      "metadata": {
        "id": "deb14c7a"
      },
      "source": [
        "Each dictionary maps from a set of letters to the number of times they appear.\n",
        "Write a function called `add_counters` that takes two dictionaries like this and returns a new dictionary that contains all of the letters and the total number of times they appear in either word.\n",
        "\n",
        "There are many ways to solve this problem.\n",
        "Once you have a working solution, consider asking a virtual assistant for different solutions."
      ]
    },
    {
      "cell_type": "code",
      "execution_count": null,
      "id": "6cf70355",
      "metadata": {
        "id": "6cf70355"
      },
      "outputs": [],
      "source": []
    },
    {
      "cell_type": "code",
      "execution_count": null,
      "id": "6a729a14",
      "metadata": {
        "id": "6a729a14"
      },
      "outputs": [],
      "source": []
    },
    {
      "cell_type": "markdown",
      "id": "f88110a9",
      "metadata": {
        "id": "f88110a9"
      },
      "source": [
        "### Exercise\n",
        "\n",
        "A word is \"interlocking\" if we can split it into two words by taking alternating letters.\n",
        "For example, \"schooled\" is an interlocking word because it can be split into \"shoe\" and \"cold\".\n",
        "\n",
        "To select alternating letters from a string, you can use a slice operator with three components that indicate where to start, where to stop, and the \"step size\" between the letters.\n",
        "\n",
        "In the following slice, the first component is `0`, so we start with the first letter.\n",
        "The second component is `None`, which means we should go all the way to the end of the string.\n",
        "And the third component is `2`, so there are two steps between the letters we select."
      ]
    },
    {
      "cell_type": "code",
      "execution_count": null,
      "id": "56783358",
      "metadata": {
        "id": "56783358"
      },
      "outputs": [],
      "source": []
    },
    {
      "cell_type": "markdown",
      "id": "d432332d",
      "metadata": {
        "id": "d432332d"
      },
      "source": [
        "Instead of providing `None` as the second component, we can get the same effect by leaving it out altogether.\n",
        "For example, the following slice selects alternating letters, starting with the second letter."
      ]
    },
    {
      "cell_type": "code",
      "execution_count": null,
      "id": "77fa8483",
      "metadata": {
        "id": "77fa8483"
      },
      "outputs": [],
      "source": []
    },
    {
      "cell_type": "markdown",
      "id": "c8c4e3ba",
      "metadata": {
        "id": "c8c4e3ba"
      },
      "source": [
        "Write a function called `is_interlocking` that takes a word as an argument and returns `True` if it can be split into two interlocking words."
      ]
    },
    {
      "cell_type": "code",
      "execution_count": null,
      "id": "e5e1030c",
      "metadata": {
        "id": "e5e1030c"
      },
      "outputs": [],
      "source": []
    },
    {
      "cell_type": "markdown",
      "id": "2787f786",
      "metadata": {
        "tags": [],
        "id": "2787f786"
      },
      "source": [
        "You can use the following loop to find the interlocking words in the word list."
      ]
    },
    {
      "cell_type": "code",
      "execution_count": null,
      "id": "e04a5c73",
      "metadata": {
        "id": "e04a5c73"
      },
      "outputs": [],
      "source": []
    },
    {
      "cell_type": "code",
      "execution_count": null,
      "id": "ced5aa90",
      "metadata": {
        "id": "ced5aa90"
      },
      "outputs": [],
      "source": []
    },
    {
      "cell_type": "markdown",
      "id": "a7f4edf8",
      "metadata": {
        "tags": [],
        "id": "a7f4edf8"
      },
      "source": [
        "[Think Python: 3rd Edition](https://allendowney.github.io/ThinkPython/index.html)\n",
        "\n",
        "Copyright 2024 [Allen B. Downey](https://allendowney.com)\n",
        "\n",
        "Code license: [MIT License](https://mit-license.org/)\n",
        "\n",
        "Text license: [Creative Commons Attribution-NonCommercial-ShareAlike 4.0 International](https://creativecommons.org/licenses/by-nc-sa/4.0/)"
      ]
    }
  ],
  "metadata": {
    "celltoolbar": "Tags",
    "kernelspec": {
      "display_name": "Python 3 (ipykernel)",
      "language": "python",
      "name": "python3"
    },
    "language_info": {
      "codemirror_mode": {
        "name": "ipython",
        "version": 3
      },
      "file_extension": ".py",
      "mimetype": "text/x-python",
      "name": "python",
      "nbconvert_exporter": "python",
      "pygments_lexer": "ipython3",
      "version": "3.10.11"
    },
    "colab": {
      "provenance": []
    }
  },
  "nbformat": 4,
  "nbformat_minor": 5
}